{
 "cells": [
  {
   "cell_type": "code",
   "execution_count": 1,
   "metadata": {},
   "outputs": [
    {
     "name": "stdout",
     "output_type": "stream",
     "text": [
      "   32      3801      45      123\n",
      "+ 698    -    2    + 43    +  49\n",
      "-----    ------    ----    -----\n",
      "  730      3799      88      172\n"
     ]
    }
   ],
   "source": [
    "def arithmetic_arranger(problems, show_answers=False):\n",
    "    \n",
    "    if len(problems) > 5:\n",
    "        return \"Error: Too many problems.\"\n",
    "    \n",
    "    char_top = []\n",
    "    char_bottom = []\n",
    "    char_line = []\n",
    "    char_answers = []\n",
    "\n",
    "    for problem in problems:\n",
    "        parts = problem.split()\n",
    "        arg1 = parts[0]\n",
    "        operator = parts[1]\n",
    "        arg2 = parts[2]\n",
    "\n",
    "        \n",
    "        if operator not in [\"+\", \"-\"]:\n",
    "            return \"Error: Operator must be '+' or '-'.\"\n",
    "        \n",
    "        \n",
    "        if not (arg1.isdigit() and arg2.isdigit()):\n",
    "            return \"Error: Numbers must only contain digits.\"\n",
    "        \n",
    "        \n",
    "        if len(arg1) > 4 or len(arg2) > 4:\n",
    "            return \"Error: Numbers cannot be more than four digits.\"\n",
    "        \n",
    "     \n",
    "        if show_answers:\n",
    "            result = str(eval(problem))\n",
    "        \n",
    "   \n",
    "        max_length = max(len(arg1), len(arg2)) + 2\n",
    "        char_top.append(arg1.rjust(max_length))\n",
    "        char_bottom.append(operator + \" \" + arg2.rjust(max_length - 2))\n",
    "        char_line.append('-' * max_length)\n",
    "        if show_answers:\n",
    "            char_answers.append(result.rjust(max_length))\n",
    "    \n",
    "    \n",
    "    arranged_problems = \"    \".join(char_top) + \"\\n\"\n",
    "    arranged_problems += \"    \".join(char_bottom) + \"\\n\"\n",
    "    arranged_problems += \"    \".join(char_line)\n",
    "    \n",
    "    if show_answers:\n",
    "        arranged_problems += \"\\n\" + \"    \".join(char_answers)\n",
    "    \n",
    "    return arranged_problems\n",
    "\n",
    "\n",
    "print(arithmetic_arranger([\"32 + 698\", \"3801 - 2\", \"45 + 43\", \"123 + 49\"], True))"
   ]
  }
 ],
 "metadata": {
  "kernelspec": {
   "display_name": "base",
   "language": "python",
   "name": "python3"
  },
  "language_info": {
   "codemirror_mode": {
    "name": "ipython",
    "version": 3
   },
   "file_extension": ".py",
   "mimetype": "text/x-python",
   "name": "python",
   "nbconvert_exporter": "python",
   "pygments_lexer": "ipython3",
   "version": "3.11.4"
  }
 },
 "nbformat": 4,
 "nbformat_minor": 2
}
